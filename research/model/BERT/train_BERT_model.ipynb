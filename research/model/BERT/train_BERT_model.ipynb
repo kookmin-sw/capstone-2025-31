{
 "cells": [
  {
   "cell_type": "code",
   "execution_count": 1,
   "metadata": {},
   "outputs": [
    {
     "name": "stdout",
     "output_type": "stream",
     "text": [
      "WARNING:tensorflow:From C:\\Users\\to765\\AppData\\Roaming\\Python\\Python312\\site-packages\\tf_keras\\src\\losses.py:2976: The name tf.losses.sparse_softmax_cross_entropy is deprecated. Please use tf.compat.v1.losses.sparse_softmax_cross_entropy instead.\n",
      "\n"
     ]
    }
   ],
   "source": [
    "import json\n",
    "import pandas as pd\n",
    "from datasets import Dataset\n",
    "import torch\n",
    "from transformers import AutoTokenizer, AutoModelForSequenceClassification, TrainingArguments, Trainer\n",
    "from sklearn.metrics import mean_squared_error, mean_absolute_error\n",
    "from scipy.stats import pearsonr\n",
    "import numpy as np\n"
   ]
  },
  {
   "cell_type": "code",
   "execution_count": null,
   "metadata": {},
   "outputs": [],
   "source": [
    "# 파인튜닝 데이터셋 읽어오기\n",
    "\n",
    "FILE_PATH = \"../../data/fine-tuning-data/KLUE-sts\"\n",
    "\n",
    "def extract_essential_fields(data):\n",
    "    rows = []\n",
    "    for item in data:\n",
    "        rows.append({\n",
    "            \"sentence1\": item[\"sentence1\"],\n",
    "            \"sentence2\": item[\"sentence2\"],\n",
    "            \"labels\": float(item[\"labels\"][\"label\"])\n",
    "        })\n",
    "    return pd.DataFrame(rows)\n",
    "\n",
    "with open(f\"{FILE_PATH}/klue-sts-v1.1_train.json\", encoding='utf-8') as f:\n",
    "    train_data = json.load(f)\n",
    "\n",
    "with open(f\"{FILE_PATH}/klue-sts-v1.1_dev.json\", encoding='utf-8') as f:\n",
    "    val_data = json.load(f)\n",
    "\n",
    "train_df = extract_essential_fields(train_data)\n",
    "val_df = extract_essential_fields(val_data)\n",
    "\n",
    "train_dataset = Dataset.from_pandas(train_df)\n",
    "val_dataset = Dataset.from_pandas(val_df)"
   ]
  },
  {
   "cell_type": "code",
   "execution_count": null,
   "metadata": {},
   "outputs": [
    {
     "name": "stderr",
     "output_type": "stream",
     "text": [
      "Some weights of RobertaForSequenceClassification were not initialized from the model checkpoint at klue/roberta-base and are newly initialized: ['classifier.dense.bias', 'classifier.dense.weight', 'classifier.out_proj.bias', 'classifier.out_proj.weight']\n",
      "You should probably TRAIN this model on a down-stream task to be able to use it for predictions and inference.\n"
     ]
    }
   ],
   "source": [
    "\n",
    "tokenizer = AutoTokenizer.from_pretrained(\"klue/roberta-base\")\n",
    "model = AutoModelForSequenceClassification.from_pretrained(\n",
    "    \"klue/roberta-base\",\n",
    "    num_labels=1 # 1이면 float값 출력, 0이면 이진 분류\n",
    ")"
   ]
  },
  {
   "cell_type": "code",
   "execution_count": 4,
   "metadata": {},
   "outputs": [
    {
     "data": {
      "application/vnd.jupyter.widget-view+json": {
       "model_id": "0bdc95ccc6cd4c588e2885af27869c97",
       "version_major": 2,
       "version_minor": 0
      },
      "text/plain": [
       "Map:   0%|          | 0/11668 [00:00<?, ? examples/s]"
      ]
     },
     "metadata": {},
     "output_type": "display_data"
    },
    {
     "data": {
      "application/vnd.jupyter.widget-view+json": {
       "model_id": "fe999ae81e2842e1aa740298138ddc9d",
       "version_major": 2,
       "version_minor": 0
      },
      "text/plain": [
       "Map:   0%|          | 0/519 [00:00<?, ? examples/s]"
      ]
     },
     "metadata": {},
     "output_type": "display_data"
    }
   ],
   "source": [
    "def preprocess(example):\n",
    "    return tokenizer(\n",
    "        example[\"sentence1\"],\n",
    "        example[\"sentence2\"],\n",
    "        truncation=True,\n",
    "        padding=\"max_length\",\n",
    "        max_length=128\n",
    "    )\n",
    "\n",
    "train_dataset = train_dataset.map(preprocess, batched=True)\n",
    "val_dataset = val_dataset.map(preprocess, batched=True)"
   ]
  },
  {
   "cell_type": "code",
   "execution_count": 5,
   "metadata": {},
   "outputs": [],
   "source": [
    "# Trainer가 학습에 쓸 수 있도록 label 설정\n",
    "train_dataset.set_format(type='torch', columns=['input_ids', 'attention_mask', 'labels'])\n",
    "val_dataset.set_format(type='torch', columns=['input_ids', 'attention_mask', 'labels'])"
   ]
  },
  {
   "cell_type": "code",
   "execution_count": 6,
   "metadata": {},
   "outputs": [],
   "source": [
    "def compute_metrics(pred):\n",
    "    preds, labels = pred\n",
    "    preds = preds.flatten()\n",
    "    labels = labels.flatten()\n",
    "    \n",
    "    pearson = pearsonr(preds, labels)[0]\n",
    "    mse = mean_squared_error(labels, preds)\n",
    "    mae = mean_absolute_error(labels, preds)\n",
    "\n",
    "    return {\n",
    "        'pearson': pearson,\n",
    "        'mse': mse,\n",
    "        'mae': mae\n",
    "    }\n"
   ]
  },
  {
   "cell_type": "code",
   "execution_count": null,
   "metadata": {},
   "outputs": [
    {
     "name": "stderr",
     "output_type": "stream",
     "text": [
      "c:\\Users\\to765\\anaconda3\\Lib\\site-packages\\transformers\\training_args.py:1594: FutureWarning: `evaluation_strategy` is deprecated and will be removed in version 4.46 of 🤗 Transformers. Use `eval_strategy` instead\n",
      "  warnings.warn(\n"
     ]
    }
   ],
   "source": [
    "training_args = TrainingArguments(\n",
    "    output_dir=\"C:/results\", # 경로에 한글이 있으면 안돼서 이렇게 구성하였음. 수정 가능\n",
    "    evaluation_strategy=\"epoch\",\n",
    "    save_strategy=\"epoch\",\n",
    "    learning_rate=2e-5,\n",
    "    per_device_train_batch_size=16,\n",
    "    per_device_eval_batch_size=16,\n",
    "    num_train_epochs=10,\n",
    "    weight_decay=0.01,\n",
    "    load_best_model_at_end=True,\n",
    "    metric_for_best_model=\"pearson\",\n",
    "    save_total_limit=1\n",
    ")\n"
   ]
  },
  {
   "cell_type": "code",
   "execution_count": 8,
   "metadata": {},
   "outputs": [
    {
     "name": "stderr",
     "output_type": "stream",
     "text": [
      "C:\\Users\\to765\\AppData\\Local\\Temp\\ipykernel_30620\\842634874.py:1: FutureWarning: `tokenizer` is deprecated and will be removed in version 5.0.0 for `Trainer.__init__`. Use `processing_class` instead.\n",
      "  trainer = Trainer(\n"
     ]
    }
   ],
   "source": [
    "trainer = Trainer(\n",
    "    model=model,\n",
    "    args=training_args,\n",
    "    train_dataset=train_dataset,\n",
    "    eval_dataset=val_dataset,\n",
    "    tokenizer=tokenizer,\n",
    "    compute_metrics=compute_metrics,\n",
    ")"
   ]
  },
  {
   "cell_type": "code",
   "execution_count": 9,
   "metadata": {},
   "outputs": [
    {
     "name": "stdout",
     "output_type": "stream",
     "text": [
      "📊 학습 전 평가 결과:\n"
     ]
    },
    {
     "data": {
      "text/html": [
       "\n",
       "    <div>\n",
       "      \n",
       "      <progress value='66' max='33' style='width:300px; height:20px; vertical-align: middle;'></progress>\n",
       "      [33/33 01:37]\n",
       "    </div>\n",
       "    "
      ],
      "text/plain": [
       "<IPython.core.display.HTML object>"
      ]
     },
     "metadata": {},
     "output_type": "display_data"
    },
    {
     "data": {
      "text/html": [
       "\n",
       "    <div>\n",
       "      \n",
       "      <progress value='7300' max='7300' style='width:300px; height:20px; vertical-align: middle;'></progress>\n",
       "      [7300/7300 16:09, Epoch 10/10]\n",
       "    </div>\n",
       "    <table border=\"1\" class=\"dataframe\">\n",
       "  <thead>\n",
       " <tr style=\"text-align: left;\">\n",
       "      <th>Epoch</th>\n",
       "      <th>Training Loss</th>\n",
       "      <th>Validation Loss</th>\n",
       "      <th>Model Preparation Time</th>\n",
       "      <th>Pearson</th>\n",
       "      <th>Mse</th>\n",
       "      <th>Mae</th>\n",
       "    </tr>\n",
       "  </thead>\n",
       "  <tbody>\n",
       "    <tr>\n",
       "      <td>1</td>\n",
       "      <td>0.524000</td>\n",
       "      <td>0.519043</td>\n",
       "      <td>0.000000</td>\n",
       "      <td>0.903155</td>\n",
       "      <td>0.519043</td>\n",
       "      <td>0.529355</td>\n",
       "    </tr>\n",
       "    <tr>\n",
       "      <td>2</td>\n",
       "      <td>0.176700</td>\n",
       "      <td>0.379416</td>\n",
       "      <td>0.000000</td>\n",
       "      <td>0.922982</td>\n",
       "      <td>0.379416</td>\n",
       "      <td>0.451566</td>\n",
       "    </tr>\n",
       "    <tr>\n",
       "      <td>3</td>\n",
       "      <td>0.107400</td>\n",
       "      <td>0.487042</td>\n",
       "      <td>0.000000</td>\n",
       "      <td>0.914861</td>\n",
       "      <td>0.487042</td>\n",
       "      <td>0.519524</td>\n",
       "    </tr>\n",
       "    <tr>\n",
       "      <td>4</td>\n",
       "      <td>0.085900</td>\n",
       "      <td>0.310401</td>\n",
       "      <td>0.000000</td>\n",
       "      <td>0.926843</td>\n",
       "      <td>0.310401</td>\n",
       "      <td>0.421881</td>\n",
       "    </tr>\n",
       "    <tr>\n",
       "      <td>5</td>\n",
       "      <td>0.056700</td>\n",
       "      <td>0.402473</td>\n",
       "      <td>0.000000</td>\n",
       "      <td>0.927653</td>\n",
       "      <td>0.402473</td>\n",
       "      <td>0.465382</td>\n",
       "    </tr>\n",
       "    <tr>\n",
       "      <td>6</td>\n",
       "      <td>0.049800</td>\n",
       "      <td>0.322850</td>\n",
       "      <td>0.000000</td>\n",
       "      <td>0.932446</td>\n",
       "      <td>0.322850</td>\n",
       "      <td>0.419430</td>\n",
       "    </tr>\n",
       "    <tr>\n",
       "      <td>7</td>\n",
       "      <td>0.037000</td>\n",
       "      <td>0.368098</td>\n",
       "      <td>0.000000</td>\n",
       "      <td>0.925525</td>\n",
       "      <td>0.368098</td>\n",
       "      <td>0.452963</td>\n",
       "    </tr>\n",
       "    <tr>\n",
       "      <td>8</td>\n",
       "      <td>0.031900</td>\n",
       "      <td>0.320194</td>\n",
       "      <td>0.000000</td>\n",
       "      <td>0.932796</td>\n",
       "      <td>0.320194</td>\n",
       "      <td>0.415787</td>\n",
       "    </tr>\n",
       "    <tr>\n",
       "      <td>9</td>\n",
       "      <td>0.025000</td>\n",
       "      <td>0.371158</td>\n",
       "      <td>0.000000</td>\n",
       "      <td>0.929914</td>\n",
       "      <td>0.371158</td>\n",
       "      <td>0.453890</td>\n",
       "    </tr>\n",
       "    <tr>\n",
       "      <td>10</td>\n",
       "      <td>0.022500</td>\n",
       "      <td>0.337652</td>\n",
       "      <td>0.000000</td>\n",
       "      <td>0.932425</td>\n",
       "      <td>0.337652</td>\n",
       "      <td>0.431542</td>\n",
       "    </tr>\n",
       "  </tbody>\n",
       "</table><p>"
      ],
      "text/plain": [
       "<IPython.core.display.HTML object>"
      ]
     },
     "metadata": {},
     "output_type": "display_data"
    },
    {
     "name": "stdout",
     "output_type": "stream",
     "text": [
      "📊 학습 후 평가 결과:\n"
     ]
    },
    {
     "data": {
      "text/html": [],
      "text/plain": [
       "<IPython.core.display.HTML object>"
      ]
     },
     "metadata": {},
     "output_type": "display_data"
    },
    {
     "data": {
      "text/plain": [
       "{'eval_loss': 0.32019418478012085,\n",
       " 'eval_model_preparation_time': 0.0,\n",
       " 'eval_pearson': 0.9327959280897391,\n",
       " 'eval_mse': 0.3201942443847656,\n",
       " 'eval_mae': 0.41578707098960876,\n",
       " 'eval_runtime': 1.2293,\n",
       " 'eval_samples_per_second': 422.179,\n",
       " 'eval_steps_per_second': 26.844,\n",
       " 'epoch': 10.0}"
      ]
     },
     "execution_count": 9,
     "metadata": {},
     "output_type": "execute_result"
    }
   ],
   "source": [
    "# 1. 학습 전 평가\n",
    "print(\"📊 학습 전 평가 결과:\")\n",
    "trainer.evaluate()\n",
    "\n",
    "# 2. 학습\n",
    "trainer.train()\n",
    "\n",
    "# 3. 학습 후 평가\n",
    "print(\"📊 학습 후 평가 결과:\")\n",
    "trainer.evaluate()\n"
   ]
  },
  {
   "cell_type": "code",
   "execution_count": null,
   "metadata": {},
   "outputs": [],
   "source": [
    "predictions = trainer.predict(val_dataset)\n",
    "preds = predictions.predictions.squeeze()\n",
    "labels = predictions.label_ids.squeeze()\n",
    "\n",
    "# 예시: 판다스로 저장\n",
    "import pandas as pd\n",
    "\n",
    "df_result = pd.DataFrame({\n",
    "    \"sentence1\": val_df[\"sentence1\"],\n",
    "    \"sentence2\": val_df[\"sentence2\"],\n",
    "    \"gold_label\": labels,\n",
    "    \"predicted\": preds\n",
    "})\n",
    "\n",
    "df_result.to_csv(\"./results/klue-sts-predictions.csv\", index=False)\n"
   ]
  },
  {
   "cell_type": "code",
   "execution_count": null,
   "metadata": {},
   "outputs": [
    {
     "name": "stdout",
     "output_type": "stream",
     "text": [
      "📈 예측된 유사도: 0.27 / 5.0\n"
     ]
    }
   ],
   "source": [
    "import torch\n",
    "from transformers import AutoTokenizer, AutoModelForSequenceClassification\n",
    "\n",
    "model_path = \"C:/results/checkpoint-5840\" # 개인에 맞게 수정 필요\n",
    "\n",
    "# 모델과 토크나이저 로딩\n",
    "tokenizer = AutoTokenizer.from_pretrained(model_path)\n",
    "model = AutoModelForSequenceClassification.from_pretrained(model_path)\n",
    "model.eval()  # 평가 모드\n",
    "\n",
    "# 예측 함수\n",
    "def predict_similarity(sentence1, sentence2):\n",
    "    inputs = tokenizer(\n",
    "        sentence1,\n",
    "        sentence2,\n",
    "        return_tensors=\"pt\",\n",
    "        truncation=True,\n",
    "        padding=\"max_length\",\n",
    "        max_length=128\n",
    "    )\n",
    "\n",
    "    with torch.no_grad():\n",
    "        outputs = model(**inputs)\n",
    "        score = outputs.logits.squeeze().item()\n",
    "\n",
    "    return max(0.0, min(5.0, score))  # 점수 0~5로 클리핑\n",
    "\n",
    "\n",
    "s1 = \"르네상스 시대에 자신들과 중세를 구별하면서 시작되었으며, 카를 마르크스의 역사 발전 단계 이론이 나온 후, 경제적 발달 수준에 따라서 구별하는 추세가 우세하다.\"\n",
    "s2 = \"일반적인 정의는 '나무에서 나는 단맛이 포함된 식용 가능한 열매'이다. 풀에서 수확하는 열매는 야채, 나무에서 수확하는 열매는 과일로 분류하기도 한다. \"\n",
    "\n",
    "similarity = predict_similarity(s1, s2)\n",
    "print(f\"📈 예측된 유사도: {similarity:.2f} / 5.0\")\n"
   ]
  }
 ],
 "metadata": {
  "kernelspec": {
   "display_name": "base",
   "language": "python",
   "name": "python3"
  },
  "language_info": {
   "codemirror_mode": {
    "name": "ipython",
    "version": 3
   },
   "file_extension": ".py",
   "mimetype": "text/x-python",
   "name": "python",
   "nbconvert_exporter": "python",
   "pygments_lexer": "ipython3",
   "version": "3.12.7"
  }
 },
 "nbformat": 4,
 "nbformat_minor": 2
}
