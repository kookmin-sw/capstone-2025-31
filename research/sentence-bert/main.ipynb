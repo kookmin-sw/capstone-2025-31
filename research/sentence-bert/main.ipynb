{
 "cells": [
  {
   "cell_type": "code",
   "execution_count": 2,
   "metadata": {},
   "outputs": [
    {
     "name": "stderr",
     "output_type": "stream",
     "text": [
      "Preprocessing : 100%|██████████████████████████████████████████████| 10/10 [00:00<00:00, 111.94it/s]\n",
      "Preprocessing : 100%|███████████████████████████████████████████████| 10/10 [00:00<00:00, 64.11it/s]\n",
      "Preprocessing : 100%|███████████████████████████████████████████████| 10/10 [00:00<00:00, 57.99it/s]\n",
      "Preprocessing : 100%|███████████████████████████████████████████████| 10/10 [00:00<00:00, 90.58it/s]\n",
      "Preprocessing : 100%|███████████████████████████████████████████████| 10/10 [00:00<00:00, 82.49it/s]\n",
      "Preprocessing : 100%|███████████████████████████████████████████████| 10/10 [00:00<00:00, 81.45it/s]\n",
      "Preprocessing : 100%|███████████████████████████████████████████████| 10/10 [00:00<00:00, 89.36it/s]\n",
      "Preprocessing : 100%|███████████████████████████████████████████████| 10/10 [00:00<00:00, 99.25it/s]\n",
      "Preprocessing : 100%|██████████████████████████████████████████████| 10/10 [00:00<00:00, 100.28it/s]\n",
      "Preprocessing : 100%|██████████████████████████████████████████████| 10/10 [00:00<00:00, 107.59it/s]\n"
     ]
    }
   ],
   "source": [
    "# 문서 전처리\n",
    "import preprocessing\n",
    "import os\n",
    "\n",
    "preprocessing.autopreprocessing(data_path=r\"../data\", data_name=r\"dataset_masking/ko-wiki\", result_path=r\"./result\")\n",
    "mask_list = os.listdir(r\"../data/dataset_masking/ko-wiki-masked\")\n",
    "for mask in mask_list:\n",
    "    preprocessing.autopreprocessing(data_path=r\"../data\", data_name=rf\"dataset_masking/ko-wiki-masked/{mask}\", result_path=\"./result\")"
   ]
  },
  {
   "cell_type": "code",
   "execution_count": 3,
   "metadata": {},
   "outputs": [
    {
     "name": "stderr",
     "output_type": "stream",
     "text": [
      "Encoding : 100%|██████████████████████████████████████████████████████| 8/8 [01:49<00:00, 13.63s/it]\n",
      "Encoding : 100%|██████████████████████████████████████████████████████| 8/8 [02:06<00:00, 15.82s/it]\n",
      "Encoding : 100%|██████████████████████████████████████████████████████| 8/8 [01:56<00:00, 14.56s/it]\n",
      "Encoding : 100%|██████████████████████████████████████████████████████| 8/8 [01:41<00:00, 12.69s/it]\n",
      "Encoding : 100%|██████████████████████████████████████████████████████| 8/8 [01:24<00:00, 10.61s/it]\n",
      "Encoding : 100%|██████████████████████████████████████████████████████| 8/8 [01:08<00:00,  8.50s/it]\n",
      "Encoding : 100%|██████████████████████████████████████████████████████| 8/8 [00:58<00:00,  7.32s/it]\n",
      "Encoding : 100%|██████████████████████████████████████████████████████| 8/8 [00:41<00:00,  5.21s/it]\n",
      "Encoding : 100%|██████████████████████████████████████████████████████| 8/8 [00:24<00:00,  3.08s/it]\n",
      "Encoding : 100%|██████████████████████████████████████████████████████| 8/8 [00:10<00:00,  1.29s/it]\n"
     ]
    }
   ],
   "source": [
    "# 문서 인코딩\n",
    "import encode\n",
    "\n",
    "encode.autoencode(result_path=r\"./result/dataset_masking/ko-wiki\")\n",
    "mask_list = os.listdir(r\"../data/dataset_masking/ko-wiki-masked\")\n",
    "for mask in mask_list:\n",
    "    encode.autoencode(result_path=rf\"./result/dataset_masking/ko-wiki-masked/{mask}\")"
   ]
  },
  {
   "cell_type": "code",
   "execution_count": 3,
   "metadata": {},
   "outputs": [
    {
     "name": "stderr",
     "output_type": "stream",
     "text": [
      "Checking: 100%|███████████████████████████████████████████████████████| 8/8 [00:03<00:00,  2.32it/s]\n",
      "Checking: 100%|███████████████████████████████████████████████████████| 8/8 [00:03<00:00,  2.62it/s]\n",
      "Checking: 100%|███████████████████████████████████████████████████████| 8/8 [00:02<00:00,  2.89it/s]\n",
      "Checking: 100%|███████████████████████████████████████████████████████| 8/8 [00:02<00:00,  3.15it/s]\n",
      "Checking: 100%|███████████████████████████████████████████████████████| 8/8 [00:02<00:00,  3.43it/s]\n",
      "Checking: 100%|███████████████████████████████████████████████████████| 8/8 [00:02<00:00,  3.97it/s]\n",
      "Checking: 100%|███████████████████████████████████████████████████████| 8/8 [00:01<00:00,  4.68it/s]\n",
      "Checking: 100%|███████████████████████████████████████████████████████| 8/8 [00:01<00:00,  5.54it/s]\n",
      "Checking: 100%|███████████████████████████████████████████████████████| 8/8 [00:01<00:00,  6.07it/s]\n"
     ]
    }
   ],
   "source": [
    "# 문서 결과 출력\n",
    "import check,os\n",
    "\n",
    "mask_list = os.listdir(r\"../data/dataset_masking/ko-wiki-masked\")\n",
    "for mask in mask_list:\n",
    "    check.autocheck(result_path=r\"./result\", target_folder1=r\"./result/dataset_masking/ko-wiki\", target_folder2=rf\"./result/dataset_masking/ko-wiki-masked/{mask}\", threshold1=0.85, threshold2=0.80)"
   ]
  }
 ],
 "metadata": {
  "kernelspec": {
   "display_name": "Capstone",
   "language": "python",
   "name": "python3"
  },
  "language_info": {
   "codemirror_mode": {
    "name": "ipython",
    "version": 3
   },
   "file_extension": ".py",
   "mimetype": "text/x-python",
   "name": "python",
   "nbconvert_exporter": "python",
   "pygments_lexer": "ipython3",
   "version": "3.11.11"
  }
 },
 "nbformat": 4,
 "nbformat_minor": 2
}
