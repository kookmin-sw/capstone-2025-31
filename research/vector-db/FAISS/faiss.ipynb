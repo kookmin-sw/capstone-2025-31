{
 "cells": [
  {
   "cell_type": "code",
   "execution_count": null,
   "metadata": {},
   "outputs": [],
   "source": [
    "# 필요한 모듈 설치\n",
    "!pip3 install -r ./requirement.txt"
   ]
  },
  {
   "cell_type": "code",
   "execution_count": 7,
   "metadata": {},
   "outputs": [],
   "source": [
    "# 모듈 로드\n",
    "from sentence_transformers import SentenceTransformer, util\n",
    "import faiss\n",
    "import numpy as np"
   ]
  },
  {
   "cell_type": "code",
   "execution_count": 2,
   "metadata": {},
   "outputs": [],
   "source": [
    "# FAISS Class 구현\n",
    "class FAISSNearestNeighbor:\n",
    "    def __init__(self, vectors, texts):\n",
    "        self.vectors = np.array(vectors).astype('float32')\n",
    "        self.texts = texts\n",
    "        self.d = self.vectors.shape[1] # 벡터 차원\n",
    "        # faiss.normalize_L2(self.vectors) # 정규화는 SBERT에서 이미 하였으므로 생략\n",
    "        self.index = faiss.IndexFlatIP(self.d)\n",
    "        self.index.add(self.vectors)\n",
    "    \n",
    "    def search(self, query_vector, top_k=1):\n",
    "        query_vector = np.array(query_vector).astype('float32').reshape(1, -1) # 입력 벡터는 1개이므로 reshape 필요\n",
    "        # faiss.normalize_L2(self.vectors) # 정규화는 SBERT에서 이미 하였으므로 생략\n",
    "        similarities, indices = self.index.search(query_vector, top_k)\n",
    "        similar_texts = [self.texts[idx] for idx in indices[0]]\n",
    "        return similar_texts, similarities[0]"
   ]
  },
  {
   "cell_type": "code",
   "execution_count": 3,
   "metadata": {},
   "outputs": [],
   "source": [
    "# 테스트 코드 - VectorDB 구축\n",
    "model = SentenceTransformer(\"jhgan/ko-sbert-sts\")\n",
    "\n",
    "text_list = [\n",
    "    \"원숭이가 노래를 한다.\",\n",
    "    \"배가 바다를 떠나 원대한 여정을 시작했다.\",\n",
    "    \"그는 자신이 벌레만도 못한 취급을 받을 것이라곤 생각할 수 없었다.\"\n",
    "]\n",
    "text_vectors = model.encode(text_list, normalize_embeddings=True)\n",
    "vector_db = FAISSNearestNeighbor(text_vectors, text_list)"
   ]
  },
  {
   "cell_type": "code",
   "execution_count": null,
   "metadata": {},
   "outputs": [
    {
     "name": "stdout",
     "output_type": "stream",
     "text": [
      "유사 문장 : 배가 바다를 떠나 원대한 여정을 시작했다.\t유사도 :  0.9299\n",
      "SBERT 유사도 :  0.9299\n"
     ]
    }
   ],
   "source": [
    "# 테스트 코드 - VectorDB 테스트\n",
    "query_text = \"배가 바다를 떠나 원대한 여정을 시작함.\"\n",
    "\n",
    "text, sim = vector_db.search(model.encode(query_text, normalize_embeddings=True))\n",
    "print(f\"유사 문장 : {text[0]}\\t유사도 : {sim[0] : .4f}\")\n",
    "print(f\"SBERT 유사도 : {float(util.cos_sim(model.encode(text), model.encode(query_text))) : .4f}\") # FAISS 유사도와 동일해야함!"
   ]
  }
 ],
 "metadata": {
  "kernelspec": {
   "display_name": "Capstone",
   "language": "python",
   "name": "python3"
  },
  "language_info": {
   "codemirror_mode": {
    "name": "ipython",
    "version": 3
   },
   "file_extension": ".py",
   "mimetype": "text/x-python",
   "name": "python",
   "nbconvert_exporter": "python",
   "pygments_lexer": "ipython3",
   "version": "3.11.11"
  }
 },
 "nbformat": 4,
 "nbformat_minor": 2
}
