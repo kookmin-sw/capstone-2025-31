{
 "cells": [
  {
   "cell_type": "code",
   "execution_count": null,
   "metadata": {},
   "outputs": [],
   "source": [
    "# 필요한 모듈 설치\n",
    "!pip3 install -r ./requirement.txt"
   ]
  },
  {
   "cell_type": "code",
   "execution_count": 4,
   "metadata": {},
   "outputs": [],
   "source": [
    "# 모듈 로드\n",
    "from sentence_transformers import SentenceTransformer, util\n",
    "from annoy import AnnoyIndex\n",
    "import numpy as np"
   ]
  },
  {
   "cell_type": "code",
   "execution_count": 29,
   "metadata": {},
   "outputs": [],
   "source": [
    "# Annoy Class 구현\n",
    "class AnnoyNearestNeighbor:\n",
    "    def __init__(self, vectors, texts, metric='angular', n_trees=10): # angular = 코사인 유사도, euclidean : L2 거리\n",
    "        self.texts = texts\n",
    "        self.d = vectors.shape[1]\n",
    "        self.index = AnnoyIndex(self.d, metric) # Annoy Index 생성\n",
    "\n",
    "        for i, vector in enumerate(vectors):\n",
    "            self.index.add_item(i, vector)\n",
    "        self.index.build(n_trees)\n",
    "    \n",
    "    def search(self, query_vector, top_k=1):\n",
    "        indices, distances = self.index.get_nns_by_vector(query_vector, top_k, include_distances=True)\n",
    "        # anglular의 거리는 1-코사인 유사도이므로 코사인 유사도를 구하기 위해 1을 제거\n",
    "        similarities = [1 - (d/2) for d in distances]\n",
    "        similar_texts = [self.texts[i] for i in indices]\n",
    "        return similar_texts, similarities"
   ]
  },
  {
   "cell_type": "code",
   "execution_count": 34,
   "metadata": {},
   "outputs": [],
   "source": [
    "# 테스트 코드 - Vector DB 구축\n",
    "model = SentenceTransformer(\"jhgan/ko-sbert-sts\")\n",
    "\n",
    "text_list = [\n",
    "    \"원숭이가 노래를 한다.\",\n",
    "    \"배가 바다를 떠나 원대한 여정을 시작했다.\",\n",
    "    \"그는 자신이 벌레만도 못한 취급을 받을 것이라곤 생각할 수 없었다.\"\n",
    "]\n",
    "text_vectors = model.encode(text_list, normalize_embeddings=True)\n",
    "vector_db = AnnoyNearestNeighbor(text_vectors, text_list, metric='angular', n_trees=100)"
   ]
  },
  {
   "cell_type": "code",
   "execution_count": 35,
   "metadata": {},
   "outputs": [
    {
     "name": "stdout",
     "output_type": "stream",
     "text": [
      "유사 문장 : 배가 바다를 떠나 원대한 여정을 시작했다.\t유사도 :  0.9154\n",
      "SBERT 유사도 :  0.9857\n"
     ]
    }
   ],
   "source": [
    "# 테스트 코드 - VectorDB 테스트\n",
    "query_text = \"배가 바다를 떠나 원대한 여정을 시작함.\"\n",
    "query_vector = model.encode(query_text, normalize_embeddings=True)\n",
    "text, sim = vector_db.search(query_vector, 1)\n",
    "print(f\"유사 문장 : {text[0]}\\t유사도 : {sim[0] : .4f}\")\n",
    "print(f\"SBERT 유사도 : {float(util.cos_sim(model.encode(text), model.encode(query_text))) : .4f}\") # Annoy 유사도와 동일해야함!"
   ]
  }
 ],
 "metadata": {
  "kernelspec": {
   "display_name": "Capstone",
   "language": "python",
   "name": "python3"
  },
  "language_info": {
   "codemirror_mode": {
    "name": "ipython",
    "version": 3
   },
   "file_extension": ".py",
   "mimetype": "text/x-python",
   "name": "python",
   "nbconvert_exporter": "python",
   "pygments_lexer": "ipython3",
   "version": "3.11.11"
  }
 },
 "nbformat": 4,
 "nbformat_minor": 2
}
