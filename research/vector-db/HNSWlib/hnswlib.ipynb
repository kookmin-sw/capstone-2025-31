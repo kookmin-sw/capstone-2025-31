{
 "cells": [
  {
   "cell_type": "code",
   "execution_count": null,
   "metadata": {},
   "outputs": [],
   "source": [
    "# 필요한 모듈 설치\n",
    "!pip3 install -r ./requirement.txt"
   ]
  },
  {
   "cell_type": "code",
   "execution_count": 8,
   "metadata": {},
   "outputs": [],
   "source": [
    "# 모듈 로드\n",
    "import hnswlib\n",
    "import numpy as np\n",
    "from sentence_transformers import SentenceTransformer, util\n",
    "from sklearn.metrics.pairwise import cosine_similarity"
   ]
  },
  {
   "cell_type": "code",
   "execution_count": 6,
   "metadata": {},
   "outputs": [],
   "source": [
    "# HNSW Class 구현\n",
    "class HNDSWNearestNeighbor:\n",
    "    def __init__(self, vectors, texts, space=\"cosine\", ef_construction=200, M=16):\n",
    "        self.texts = texts\n",
    "        self.d = vectors.shape[1]\n",
    "        self.index = hnswlib.Index(space=space, dim=self.d)\n",
    "        num_elements = len(vectors)\n",
    "        self.index.init_index(max_elements=num_elements, ef_construction=ef_construction, M=M)\n",
    "        for i, vector in enumerate(vectors):\n",
    "            self.index.add_items(vector, i)\n",
    "    \n",
    "    def search(self, query_vector, top_k=1):\n",
    "        labels, distances = self.index.knn_query(query_vector, k=top_k)\n",
    "        similarities = [1- d for d in distances[0]]\n",
    "        similar_texts = [self.texts[i] for i in labels[0]]\n",
    "        return similar_texts, similarities"
   ]
  },
  {
   "cell_type": "code",
   "execution_count": 7,
   "metadata": {},
   "outputs": [],
   "source": [
    "# 테스트 코드 - Vector DB 구축\n",
    "model = SentenceTransformer(\"jhgan/ko-sbert-sts\")\n",
    "\n",
    "text_list = [\n",
    "    \"원숭이가 노래를 한다.\",\n",
    "    \"배가 바다를 떠나 원대한 여정을 시작했다.\",\n",
    "    \"그는 자신이 벌레만도 못한 취급을 받을 것이라곤 생각할 수 없었다.\"\n",
    "]\n",
    "text_vectors = model.encode(text_list, normalize_embeddings=True)\n",
    "vector_db = HNDSWNearestNeighbor(text_vectors, text_list, space=\"cosine\", ef_construction=200, M=16)"
   ]
  },
  {
   "cell_type": "code",
   "execution_count": 9,
   "metadata": {},
   "outputs": [
    {
     "name": "stdout",
     "output_type": "stream",
     "text": [
      "유사 문장 : 배가 바다를 떠나 원대한 여정을 시작했다.\t유사도 :  0.9857\n",
      "SBERT 유사도 :  0.9857\n"
     ]
    }
   ],
   "source": [
    "# 테스트 코드 - VectorDB 테스트\n",
    "query_text = \"배가 바다를 떠나 원대한 여정을 시작함.\"\n",
    "query_vector = model.encode(query_text, normalize_embeddings=True)\n",
    "text, sim = vector_db.search(query_vector, 1)\n",
    "print(f\"유사 문장 : {text[0]}\\t유사도 : {sim[0] : .4f}\")\n",
    "print(f\"SBERT 유사도 : {float(util.cos_sim(model.encode(text), model.encode(query_text))) : .4f}\") # Annoy 유사도와 동일해야함!"
   ]
  }
 ],
 "metadata": {
  "kernelspec": {
   "display_name": "Capstone",
   "language": "python",
   "name": "python3"
  },
  "language_info": {
   "codemirror_mode": {
    "name": "ipython",
    "version": 3
   },
   "file_extension": ".py",
   "mimetype": "text/x-python",
   "name": "python",
   "nbconvert_exporter": "python",
   "pygments_lexer": "ipython3",
   "version": "3.11.11"
  }
 },
 "nbformat": 4,
 "nbformat_minor": 2
}
