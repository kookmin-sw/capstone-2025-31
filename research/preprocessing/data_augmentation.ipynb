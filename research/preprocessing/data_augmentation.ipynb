{
 "cells": [
  {
   "cell_type": "code",
   "execution_count": 1,
   "metadata": {},
   "outputs": [],
   "source": [
    "import os\n",
    "\n",
    "data_dict = {}\n",
    "\n",
    "#모든 파일 읽기\n",
    "for root, dirs, files in os.walk(\"../data\"):\n",
    "    for file in files:\n",
    "        if file.endswith(\"1.txt\"):\n",
    "            with open(os.path.join(root, file), \"r\") as f:\n",
    "                data = f.read()\n",
    "                data_dict[file] = data"
   ]
  },
  {
   "cell_type": "code",
   "execution_count": 5,
   "metadata": {},
   "outputs": [
    {
     "name": "stderr",
     "output_type": "stream",
     "text": [
      "Device set to use cpu\n"
     ]
    },
    {
     "name": "stdout",
     "output_type": "stream",
     "text": [
      "random_masking_replacement: 아버지가 오늘은 부엌에 있었다가 갑자기 일어나시더니 슬그머니 안방으로 들어가셨다.\n",
      "random_insertion_replacement: 그런데 아버지가 오늘 아침에 부엌에 있었다가 갑자기 일어나시더니 슬그머니 안방으로 들어가셨다.\n"
     ]
    }
   ],
   "source": [
    "# K-TACC (Korean Text Augmentation Considering Context)\n",
    "\n",
    "import pandas as pd\n",
    "from utils.BertAugmentation import BertAugmentation\n",
    "from utils.adverb_augmentation import AdverbAugmentation\n",
    "import transformers\n",
    "\n",
    "\n",
    "# BertAugmentation : BERT based 모델을 활용하여, 의미상 자연스러운 토큰을 삽입하거나 대체하는 형식으로 문장 augmentation 수행\n",
    "\n",
    "BERT_aug = BertAugmentation()\n",
    "random_masking_replacement = BERT_aug.random_masking_replacement\n",
    "random_masking_insertion = BERT_aug.random_masking_insertion\n",
    "\n",
    "sentence = \"아버지가 오늘 아침에 부엌에 있었다가 갑자기 일어나시더니 슬그머니 안방으로 들어가셨다.\"\n",
    "ratio = 0.1\n",
    "\n",
    "print('random_masking_replacement:', random_masking_replacement(sentence, ratio))\n",
    "print('random_insertion_replacement:', random_masking_insertion(sentence, ratio))\n",
    "\n",
    "\n",
    "def replace_augmetation(ratio=0.1):\n",
    "\n",
    "    for file in data_dict.keys():\n",
    "\n",
    "        data = data_dict[file]\n",
    "        data = data.split(\". \")\n",
    "        augmented_data = []\n",
    "        \n",
    "        for sentence in data:\n",
    "            augmented_data.append(random_masking_insertion(sentence, ratio))\n",
    "            \n",
    "        augmented_data = \". \".join(augmented_data)\n",
    "\n",
    "        temp_ratio = str(ratio).replace('.', '')\n",
    "\n",
    "        with open(f'./result/{file[:1]}_bert.txt', 'w') as f:\n",
    "            f.write(augmented_data)\n",
    "\n",
    "\n",
    "\n",
    "replace_augmetation(0.2)\n"
   ]
  },
  {
   "cell_type": "code",
   "execution_count": 6,
   "metadata": {},
   "outputs": [
    {
     "name": "stdout",
     "output_type": "stream",
     "text": [
      "adverb_gloss_replacement: 아버지가 오늘 아침에 부엌에 있었다가 갑자기 일어나시더니 알아차리지 못할 만큼 슬며시 안방으로 들어가셨다.\n"
     ]
    }
   ],
   "source": [
    "# Adverb_augmentation: 부사를 그 부사의 뜻풀이로 교체하는 형식으로 문장 augmentation 수행\n",
    "adverb_aug = AdverbAugmentation()\n",
    "adverb_gloss_replacement = adverb_aug.adverb_gloss_replacement\n",
    "\n",
    "sentence = \"아버지가 오늘 아침에 부엌에 있었다가 갑자기 일어나시더니 슬그머니 안방으로 들어가셨다.\"\n",
    "print('adverb_gloss_replacement:', adverb_gloss_replacement(sentence))\n",
    "\n",
    "def adverb_augmetation():\n",
    "\n",
    "    for file in data_dict.keys():\n",
    "\n",
    "        data = data_dict[file]\n",
    "        data = data.split(\". \")\n",
    "        augmented_data = []\n",
    "        \n",
    "        for sentence in data:\n",
    "            augmented_data.append(adverb_gloss_replacement(sentence))\n",
    "            \n",
    "        augmented_data = \". \".join(augmented_data)\n",
    "\n",
    "        with open(f'./result/{file[:1]}_adverb.txt', 'w') as f:\n",
    "            f.write(augmented_data)\n",
    "\n",
    "adverb_augmetation()\n"
   ]
  }
 ],
 "metadata": {
  "kernelspec": {
   "display_name": "augmention",
   "language": "python",
   "name": "python3"
  },
  "language_info": {
   "codemirror_mode": {
    "name": "ipython",
    "version": 3
   },
   "file_extension": ".py",
   "mimetype": "text/x-python",
   "name": "python",
   "nbconvert_exporter": "python",
   "pygments_lexer": "ipython3",
   "version": "3.10.16"
  }
 },
 "nbformat": 4,
 "nbformat_minor": 2
}
