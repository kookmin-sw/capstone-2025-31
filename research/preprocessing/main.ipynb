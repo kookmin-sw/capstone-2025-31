{
 "cells": [
  {
   "cell_type": "code",
   "execution_count": 1,
   "metadata": {},
   "outputs": [
    {
     "name": "stdout",
     "output_type": "stream",
     "text": [
      "WARNING:tensorflow:From C:\\Users\\to765\\AppData\\Roaming\\Python\\Python312\\site-packages\\tf_keras\\src\\losses.py:2976: The name tf.losses.sparse_softmax_cross_entropy is deprecated. Please use tf.compat.v1.losses.sparse_softmax_cross_entropy instead.\n",
      "\n"
     ]
    }
   ],
   "source": [
    "# 나무위키 데이터셋 실험\n",
    "from auto_preprocessing import word_preprocessing\n",
    "from auto_preprocessing import autoencode\n",
    "from auto_preprocessing import autocheck\n",
    "import pickle\n",
    "import os\n",
    "from sentence_transformers import SentenceTransformer\n",
    "from tqdm import tqdm\n",
    "import os, pickle\n",
    "\n",
    "\n",
    "data_dict = {}\n",
    "\n",
    "# 모든 파일 읽기\n",
    "for root, dirs, files in os.walk(\"../data/namu\"):\n",
    "    for file in files:\n",
    "        with open(os.path.join(root, file), \"r\", encoding=\"utf-8\") as f:\n",
    "            data = f.read()\n",
    "            data_dict[file] = data"
   ]
  },
  {
   "cell_type": "code",
   "execution_count": 2,
   "metadata": {},
   "outputs": [],
   "source": [
    "# 단어 슬라이드 조절\n",
    "\n",
    "slides = [ 1,3,5,7,9 ]\n",
    "for slide in slides:\n",
    "    result_dict = word_preprocessing(data_dict, slide=slide)\n",
    "    with open(f\"./result/preprocess/slide_{slide}.pkl\", \"wb\") as f:\n",
    "        pickle.dump(result_dict, f)"
   ]
  },
  {
   "cell_type": "code",
   "execution_count": 3,
   "metadata": {},
   "outputs": [
    {
     "name": "stderr",
     "output_type": "stream",
     "text": [
      "Encoding: 100%|███████████████████████████████████████████████████████| 6/6 [00:10<00:00,  1.70s/it]\n"
     ]
    }
   ],
   "source": [
    "autoencode()"
   ]
  },
  {
   "cell_type": "code",
   "execution_count": 4,
   "metadata": {},
   "outputs": [
    {
     "name": "stderr",
     "output_type": "stream",
     "text": [
      "Checking: 100%|███████████████████████████████████████████████████████| 6/6 [00:01<00:00,  5.15it/s]\n"
     ]
    }
   ],
   "source": [
    "autocheck()"
   ]
  }
 ],
 "metadata": {
  "language_info": {
   "name": "python"
  }
 },
 "nbformat": 4,
 "nbformat_minor": 2
}
