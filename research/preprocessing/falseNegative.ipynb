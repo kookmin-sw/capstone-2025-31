{
 "cells": [
  {
   "cell_type": "code",
   "execution_count": 2,
   "metadata": {},
   "outputs": [],
   "source": [
    "import os\n",
    "from sentence_transformers import SentenceTransformer, util\n",
    "from tqdm import tqdm\n",
    "import pandas as pd\n",
    "import numpy as np\n",
    "import torch, os, pickle\n",
    "\n",
    "def falseNegative(result_path=\"./result\", target_folder1=\"./result/encode\", threshold1=0.85, threshold2=0.10, window_size=10):\n",
    "    path = f\"window_{window_size}.pkl\"\n",
    "\n",
    "    with open(f\"{target_folder1}/{path}\", \"rb\") as f:\n",
    "        data = pickle.load(f)\n",
    "\n",
    "    files = list(data.keys())\n",
    "    pivot_files = [f for f in files if f.endswith(\"ori.txt\")]\n",
    "    target_files = [f for f in files if not f.endswith(\"ori.txt\")]\n",
    "\n",
    "    all_rows = []\n",
    "\n",
    "    for pivot_file in pivot_files:\n",
    "        pivot = np.array(data[pivot_file])\n",
    "        pivot = torch.tensor(pivot, dtype=torch.float32, device='cuda')\n",
    "        for target_file in target_files:\n",
    "\n",
    "            if pivot_file[:2] != target_file[:2]:\n",
    "                continue\n",
    "\n",
    "            target = np.array(data[target_file])\n",
    "            target = torch.tensor(target, dtype=torch.float32, device='cuda')\n",
    "            sim_matrix = torch.mm(pivot, target.T)\n",
    "            \n",
    "            # threshold1 넘은 개수 세기\n",
    "            above_threshold = sim_matrix >= threshold1\n",
    "            cnt = above_threshold.sum(dim=1).gt(0).sum().item()\n",
    "\n",
    "            # threshold1 넘지 못한 pivot 인덱스 수집\n",
    "            below_threshold_indices = (~above_threshold.any(dim=1)).nonzero(as_tuple=True)[0].tolist()\n",
    "\n",
    "            label = 1 if cnt >= len(pivot) * threshold2 else 0\n",
    "            row = {\n",
    "                \"file1\": pivot_file,\n",
    "                \"file2\": target_file,\n",
    "                \"similarity\": cnt / len(pivot) * 100,\n",
    "                \"label\": label,\n",
    "                \"false_negative_indices\": below_threshold_indices  # 추가\n",
    "            }\n",
    "            all_rows.append(row)\n",
    "\n",
    "    df = pd.DataFrame(all_rows)\n",
    "\n",
    "    base_filename = os.path.splitext(path)[0]\n",
    "    output_path = f\"{result_path}/check/{base_filename}_falseNegative.csv\"\n",
    "    \n",
    "    df.to_csv(output_path, index=False)\n",
    "\n"
   ]
  },
  {
   "cell_type": "code",
   "execution_count": 3,
   "metadata": {},
   "outputs": [],
   "source": [
    "falseNegative(window_size=50)"
   ]
  },
  {
   "cell_type": "code",
   "execution_count": 5,
   "metadata": {},
   "outputs": [
    {
     "name": "stdout",
     "output_type": "stream",
     "text": [
      "자체로서만 먹는게 아니라 여러 가공품으로도 많이 이용되기 때문에 눈치채지 못한 사이에 먹었을 확률이 매우 높다. 당장 각종 어묵부터가 생선으로 만든 식품이며 생선 계열 햄버거의 패티로도 많이 소비되고 또한 국물을 내는 용도로도 많이 쓰인다. 우선 식용 가축으로 흔히 접할 수 있어 친근하게 느껴지는 돼지, 소, 닭 등에 비하면 감기지 않는 눈,\n",
      "만든 식품이며 생선 계열 햄버거의 패티로도 많이 소비되고 또한 국물을 내는 용도로도 많이 쓰인다. 우선 식용 가축으로 흔히 접할 수 있어 친근하게 느껴지는 돼지, 소, 닭 등에 비하면 감기지 않는 눈, 표정 없는 얼굴, 미끈미끈한 점액이 나오는 피부 등 매우 이질적으로 생겼다. 그리고 상술된 식용 가축들은 대부분 부위별 고기만 따로\n",
      "식품이며 생선 계열 햄버거의 패티로도 많이 소비되고 또한 국물을 내는 용도로도 많이 쓰인다. 우선 식용 가축으로 흔히 접할 수 있어 친근하게 느껴지는 돼지, 소, 닭 등에 비하면 감기지 않는 눈, 표정 없는 얼굴, 미끈미끈한 점액이 나오는 피부 등 매우 이질적으로 생겼다. 그리고 상술된 식용 가축들은 대부분 부위별 고기만 따로 도축되어\n",
      "생선 계열 햄버거의 패티로도 많이 소비되고 또한 국물을 내는 용도로도 많이 쓰인다. 우선 식용 가축으로 흔히 접할 수 있어 친근하게 느껴지는 돼지, 소, 닭 등에 비하면 감기지 않는 눈, 표정 없는 얼굴, 미끈미끈한 점액이 나오는 피부 등 매우 이질적으로 생겼다. 그리고 상술된 식용 가축들은 대부분 부위별 고기만 따로 도축되어 팔리는\n",
      "계열 햄버거의 패티로도 많이 소비되고 또한 국물을 내는 용도로도 많이 쓰인다. 우선 식용 가축으로 흔히 접할 수 있어 친근하게 느껴지는 돼지, 소, 닭 등에 비하면 감기지 않는 눈, 표정 없는 얼굴, 미끈미끈한 점액이 나오는 피부 등 매우 이질적으로 생겼다. 그리고 상술된 식용 가축들은 대부분 부위별 고기만 따로 도축되어 팔리는 경우가\n",
      "햄버거의 패티로도 많이 소비되고 또한 국물을 내는 용도로도 많이 쓰인다. 우선 식용 가축으로 흔히 접할 수 있어 친근하게 느껴지는 돼지, 소, 닭 등에 비하면 감기지 않는 눈, 표정 없는 얼굴, 미끈미끈한 점액이 나오는 피부 등 매우 이질적으로 생겼다. 그리고 상술된 식용 가축들은 대부분 부위별 고기만 따로 도축되어 팔리는 경우가 대부분이기\n",
      "패티로도 많이 소비되고 또한 국물을 내는 용도로도 많이 쓰인다. 우선 식용 가축으로 흔히 접할 수 있어 친근하게 느껴지는 돼지, 소, 닭 등에 비하면 감기지 않는 눈, 표정 없는 얼굴, 미끈미끈한 점액이 나오는 피부 등 매우 이질적으로 생겼다. 그리고 상술된 식용 가축들은 대부분 부위별 고기만 따로 도축되어 팔리는 경우가 대부분이기 때문에\n",
      "많이 소비되고 또한 국물을 내는 용도로도 많이 쓰인다. 우선 식용 가축으로 흔히 접할 수 있어 친근하게 느껴지는 돼지, 소, 닭 등에 비하면 감기지 않는 눈, 표정 없는 얼굴, 미끈미끈한 점액이 나오는 피부 등 매우 이질적으로 생겼다. 그리고 상술된 식용 가축들은 대부분 부위별 고기만 따로 도축되어 팔리는 경우가 대부분이기 때문에 살아\n",
      "소비되고 또한 국물을 내는 용도로도 많이 쓰인다. 우선 식용 가축으로 흔히 접할 수 있어 친근하게 느껴지는 돼지, 소, 닭 등에 비하면 감기지 않는 눈, 표정 없는 얼굴, 미끈미끈한 점액이 나오는 피부 등 매우 이질적으로 생겼다. 그리고 상술된 식용 가축들은 대부분 부위별 고기만 따로 도축되어 팔리는 경우가 대부분이기 때문에 살아 있는\n",
      "또한 국물을 내는 용도로도 많이 쓰인다. 우선 식용 가축으로 흔히 접할 수 있어 친근하게 느껴지는 돼지, 소, 닭 등에 비하면 감기지 않는 눈, 표정 없는 얼굴, 미끈미끈한 점액이 나오는 피부 등 매우 이질적으로 생겼다. 그리고 상술된 식용 가축들은 대부분 부위별 고기만 따로 도축되어 팔리는 경우가 대부분이기 때문에 살아 있는 동물이었다는\n",
      "국물을 내는 용도로도 많이 쓰인다. 우선 식용 가축으로 흔히 접할 수 있어 친근하게 느껴지는 돼지, 소, 닭 등에 비하면 감기지 않는 눈, 표정 없는 얼굴, 미끈미끈한 점액이 나오는 피부 등 매우 이질적으로 생겼다. 그리고 상술된 식용 가축들은 대부분 부위별 고기만 따로 도축되어 팔리는 경우가 대부분이기 때문에 살아 있는 동물이었다는 느낌이\n",
      "내는 용도로도 많이 쓰인다. 우선 식용 가축으로 흔히 접할 수 있어 친근하게 느껴지는 돼지, 소, 닭 등에 비하면 감기지 않는 눈, 표정 없는 얼굴, 미끈미끈한 점액이 나오는 피부 등 매우 이질적으로 생겼다. 그리고 상술된 식용 가축들은 대부분 부위별 고기만 따로 도축되어 팔리는 경우가 대부분이기 때문에 살아 있는 동물이었다는 느낌이 상대적으로\n",
      "용도로도 많이 쓰인다. 우선 식용 가축으로 흔히 접할 수 있어 친근하게 느껴지는 돼지, 소, 닭 등에 비하면 감기지 않는 눈, 표정 없는 얼굴, 미끈미끈한 점액이 나오는 피부 등 매우 이질적으로 생겼다. 그리고 상술된 식용 가축들은 대부분 부위별 고기만 따로 도축되어 팔리는 경우가 대부분이기 때문에 살아 있는 동물이었다는 느낌이 상대적으로 덜\n",
      "많이 쓰인다. 우선 식용 가축으로 흔히 접할 수 있어 친근하게 느껴지는 돼지, 소, 닭 등에 비하면 감기지 않는 눈, 표정 없는 얼굴, 미끈미끈한 점액이 나오는 피부 등 매우 이질적으로 생겼다. 그리고 상술된 식용 가축들은 대부분 부위별 고기만 따로 도축되어 팔리는 경우가 대부분이기 때문에 살아 있는 동물이었다는 느낌이 상대적으로 덜 드는\n",
      "쓰인다. 우선 식용 가축으로 흔히 접할 수 있어 친근하게 느껴지는 돼지, 소, 닭 등에 비하면 감기지 않는 눈, 표정 없는 얼굴, 미끈미끈한 점액이 나오는 피부 등 매우 이질적으로 생겼다. 그리고 상술된 식용 가축들은 대부분 부위별 고기만 따로 도축되어 팔리는 경우가 대부분이기 때문에 살아 있는 동물이었다는 느낌이 상대적으로 덜 드는 반면,\n"
     ]
    }
   ],
   "source": [
    "with open(\"./result/preprocess/window_50.pkl\", \"rb\") as f:\n",
    "    data = pickle.load(f)\n",
    "\n",
    "below = [26, 45, 46, 47, 48, 49, 50, 51, 52, 53, 54, 55, 56, 57, 58]\n",
    "\n",
    "for i in below:\n",
    "    print(data['생선-ori.txt'][i])\n"
   ]
  }
 ],
 "metadata": {
  "kernelspec": {
   "display_name": "base",
   "language": "python",
   "name": "python3"
  },
  "language_info": {
   "codemirror_mode": {
    "name": "ipython",
    "version": 3
   },
   "file_extension": ".py",
   "mimetype": "text/x-python",
   "name": "python",
   "nbconvert_exporter": "python",
   "pygments_lexer": "ipython3",
   "version": "3.12.7"
  }
 },
 "nbformat": 4,
 "nbformat_minor": 2
}
